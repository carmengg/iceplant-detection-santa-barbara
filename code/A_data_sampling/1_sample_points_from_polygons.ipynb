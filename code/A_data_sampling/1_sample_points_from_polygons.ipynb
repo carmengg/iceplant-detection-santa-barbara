{
 "cells": [
  {
   "cell_type": "markdown",
   "id": "e7857bfb-d31c-4c6b-937f-0f14b338b79c",
   "metadata": {},
   "source": [
    "# About\n",
    "\n",
    "This notebook extracts spectral and date features from NAIP images at random points within polygons. \n",
    "\n",
    "The polygons used here depict verified iceplant locations within four NAIP images along the Santa Barbara County coast and are archived in the data directory of this repository. \n",
    "\n",
    "\n",
    "**NOTEBOOK VARIABLES:**\n",
    "\n",
    "- `aois` (array): These are the areas of interest where we collected the polygons we want to sample. Must be a subset of: `['campus_lagoon','carpinteria','gaviota','capitan']`. \n",
    "\n",
    "- `total_pts` (array of int): the number of points to sample from each aoi\n",
    "\n",
    "- `convert_crs` (bool): whether to match all sampled points to the same CRS (EPSG 4326), otherwise points have the crs of the naip image it was sampled from.\n",
    "\n",
    "\n",
    "**OUTPUT:**\n",
    "\n",
    "The output is a data frame of points with the following features:\n",
    "\n",
    "- x, y: coordinates of point *p* \n",
    "- pts_crs: CRS of coordinates x, y\n",
    "- naip_id: itemid of the NAIP from which *p* was sampled from\n",
    "- polygon_id: id of the polygon from which *p* was sampled from\n",
    "- iceplant: whether point *p* corresponds to a confirmed iceplant location or a confirmed non-iceplant location (0 = non-iceplant, 1 = iceplant)\n",
    "- r, g, b, nir: Red, Green, Blue, and NIR values of NAIP scene with naip_id at coordinates of point *p*\n",
    "- ndvi: computed for each point using the Red and NIR bands\n",
    "- year, month, day_in_year: year, month, and day of the year when the NAIP image was collected\n",
    "- aoi: name of the area of interest where the points were sampled from\n",
    "\n",
    "\n",
    "The data frames are saved in the 'temp' folder as a csv file. Filenames have the structure: `aoi_iceplant_points.csv'`"
   ]
  },
  {
   "cell_type": "code",
   "execution_count": null,
   "id": "5dc55526-b26d-4c56-8217-65a50f6b372b",
   "metadata": {
    "tags": []
   },
   "outputs": [],
   "source": [
    "import numpy as np\n",
    "import pandas as pd\n",
    "import matplotlib.pyplot as plt\n",
    "\n",
    "import os\n",
    "import geopandas as gpd\n",
    "from rasterio import CRS\n",
    "\n",
    "import sample_rasters as sr"
   ]
  },
  {
   "cell_type": "code",
   "execution_count": null,
   "id": "61a3a4a1-402a-4a2f-bc0a-8609296c5bc7",
   "metadata": {
    "tags": []
   },
   "outputs": [],
   "source": [
    "### ***************************************************\n",
    "# (Assuming repository's parent directory is the home directory)\n",
    "# Set cwd to top directory in the project\n",
    "home = os.path.expanduser(\"~\")\n",
    "\n",
    "os.chdir(os.path.join(home,'iceplant-detection-santa-barbara'))\n",
    "\n",
    "### ***************************************************\n",
    "def path_2_polys(aoi):\n",
    "    \"\"\"\n",
    "        Creates a path to the shapefile with polygons collected at specified aoi. \n",
    "            Parameters:\n",
    "                        aoi (str): name of aoi in polygon's file name\n",
    "            Return: fp (str): if the file exists it returns the constructed file path\n",
    "    \"\"\"    \n",
    "    \n",
    "    fp = os.path.join(os.getcwd(),\n",
    "                      'data',\n",
    "                      'iceplant_data',\n",
    "                      'iceplant_polygons',\n",
    "                      aoi+'_iceplant_polygons',\n",
    "                      aoi+'_iceplant_polygons.shp')\n",
    "    \n",
    "    # check there is a file at filepath\n",
    "    if not os.path.exists(fp):\n",
    "        print('invalid filepath: no file')\n",
    "        return\n",
    "    return fp\n",
    "    "
   ]
  },
  {
   "cell_type": "markdown",
   "id": "f537b008-3fab-4251-94ad-177503dab258",
   "metadata": {},
   "source": [
    "# Specify notebook variables"
   ]
  },
  {
   "cell_type": "code",
   "execution_count": null,
   "id": "a4b63d32-24c2-4eb9-a88e-5c485296d84b",
   "metadata": {
    "tags": []
   },
   "outputs": [],
   "source": [
    "### ***************************************************\n",
    "# ************* NOTEBOOK VARIABLES ******************\n",
    "\n",
    "aois = ['carpinteria','campus_lagoon','capitan','gaviota']\n",
    "\n",
    "total_pts = [10,10,10,10]\n",
    "\n",
    "# convert to epsg 4326\n",
    "convert_crs = True"
   ]
  },
  {
   "cell_type": "markdown",
   "id": "0982a96a-4bc1-44e4-a28b-b35b207fdc3b",
   "metadata": {},
   "source": [
    "# Sample points"
   ]
  },
  {
   "cell_type": "code",
   "execution_count": null,
   "id": "f7aadbe2-374d-4241-9c7c-27aa7c030f62",
   "metadata": {},
   "outputs": [],
   "source": [
    "# create temp directory if needed, final samples pts are saved here\n",
    "\n",
    "tmp_path = os.path.join(os.getcwd(),\n",
    "                        'notebooks',\n",
    "                        'A_data_sampling',\n",
    "                        'temp')  \n",
    "if not os.path.exists(tmp_path):\n",
    "    os.mkdir(tmp_path)\n",
    "\n",
    "# -------------------------\n",
    "# sample points\n",
    "all_pts = []\n",
    "for aoi, total_pts_aoi in zip(aois,total_pts):\n",
    "    # open polygons\n",
    "    fp = path_2_polys(aoi)\n",
    "    polys = gpd.read_file(fp)\n",
    "    \n",
    "    # -------------------------\n",
    "    # select iceplant polygons\n",
    "    polys_ice = polys.loc[polys.iceplant == 1].reset_index(drop = True)\n",
    "\n",
    "    # sample points according to parameters\n",
    "    pts = sr.sample_naip_from_polys_no_warnings(polys = polys_ice,\n",
    "                                                    class_name = 'iceplant',\n",
    "                                                    itemid = polys.aoi[0], \n",
    "                                                    total_pts = total_pts_aoi)  \n",
    "    pts['aoi'] = aoi \n",
    "    # add ndvi as feature\n",
    "    pts['ndvi'] = (pts.nir.astype('int16') - pts.r.astype('int16'))/(pts.nir.astype('int16') + pts.r.astype('int16'))\n",
    "    # -------------------------\n",
    "    # if we don't need to match the crs of all points, save each file sepparately\n",
    "    if (not convert_crs):\n",
    "        fp = os.path.join(tmp_path, aoi+'_iceplant_pts.csv')\n",
    "        pts.to_csv(fp, index=False)\n",
    "    if convert_crs:\n",
    "        all_pts.append(pts)\n",
    "\n",
    "# -------------------------\n",
    "# match crs of all sampled points to EPSG 4326\n",
    "if convert_crs:\n",
    "    same_crs_pts = []\n",
    "    for df in all_pts:\n",
    "        # -------------------------        \n",
    "        # find crs of points and create geodataframe\n",
    "        aoi = df.aoi[0]\n",
    "        if aoi in ['campus_lagoon','carpinteria']: \n",
    "            crs = 26911  #this crs is known from the NAIP scene\n",
    "        else:\n",
    "            crs = 26910  #this crs is known from the NAIP scene\n",
    "        gdf = gpd.GeoDataFrame(df,\n",
    "                               geometry = gpd.points_from_xy(df.x, df.y),\n",
    "                               crs = CRS.from_epsg(crs))\n",
    "        # -------------------------        \n",
    "        # conver to EPSG 4326 crs\n",
    "        gdf = gdf.to_crs(CRS.from_epsg(4326))\n",
    "        same_crs_pts.append(gdf)\n",
    "\n",
    "    # -------------------------        \n",
    "    # create final dataframe of pts\n",
    "    pts = pd.concat(same_crs_pts, ignore_index=True)\n",
    "    # -------------------------        \n",
    "    # update coordinate and crs columns\n",
    "    pts = pts.drop(['x','y','pts_crs'], axis=1)\n",
    "    pts = pts.assign(x = lambda pt: pt.geometry.x)\n",
    "    pts = pts.assign(y = lambda pt: pt.geometry.y)\n",
    "    pts['pts_crs'] = 'EPSG:4326'\n",
    "    pts = pts.drop(['geometry'], axis=1)\n",
    "\n",
    "    # -------------------------        \n",
    "    # save points\n",
    "    fp = os.path.join(tmp_path,'iceplant_pts.csv')\n",
    "    pts.to_csv(fp, index=False)"
   ]
  },
  {
   "cell_type": "code",
   "execution_count": null,
   "id": "57063b0e-fbe9-4685-947e-91a58b06daac",
   "metadata": {},
   "outputs": [],
   "source": []
  }
 ],
 "metadata": {
  "kernelspec": {
   "display_name": "Python 3 (ipykernel)",
   "language": "python",
   "name": "python3"
  },
  "language_info": {
   "codemirror_mode": {
    "name": "ipython",
    "version": 3
   },
   "file_extension": ".py",
   "mimetype": "text/x-python",
   "name": "python",
   "nbconvert_exporter": "python",
   "pygments_lexer": "ipython3",
   "version": "3.11.4"
  }
 },
 "nbformat": 4,
 "nbformat_minor": 5
}
