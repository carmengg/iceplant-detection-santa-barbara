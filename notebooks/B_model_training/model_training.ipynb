{
 "cells": [
  {
   "cell_type": "markdown",
   "id": "ba5a9946-4ede-4f1d-b449-c7773c317927",
   "metadata": {},
   "source": [
    "# About\n",
    "\n",
    "This is a notebook to train a random forst and calculate accuracy metrics using the iceplant data. \n",
    "\n",
    "\n",
    "**NOTEBOOK PARAMETERS**\n",
    "- `train_file_path` (str): file path to the training dataset\n",
    "- `test_file_path` (str): file path to the test dataset\n",
    "- `label_name` (str): name of the column containing the class data (iceplant/other vegetation)\n",
    "- `cols` (array of str): name of the columns that will be used as features\n",
    "- `save_model` (bool): whether to save the model or not\n",
    "- `model_name` (str): name of the ouput model\n"
   ]
  },
  {
   "cell_type": "code",
   "execution_count": 1,
   "id": "49ac83f8-c841-4b74-9adb-265df16730da",
   "metadata": {},
   "outputs": [],
   "source": [
    "import os\n",
    "import time\n",
    "import numpy as np\n",
    "import pandas as pd\n",
    "\n",
    "from sklearn.ensemble import RandomForestClassifier\n",
    "from sklearn.inspection import permutation_importance\n",
    "from sklearn.metrics import confusion_matrix\n",
    "\n",
    "from joblib import dump"
   ]
  },
  {
   "cell_type": "code",
   "execution_count": 2,
   "id": "797a810f-f4c3-4d24-a677-905966bfb767",
   "metadata": {},
   "outputs": [],
   "source": [
    "def print_accuracy_info(y_true,y_pred):\n",
    "    \"\"\"A function to print the accuracies calculated from the confusion matrix. \"\"\"\n",
    "    N = y_true.shape[0]\n",
    "    \n",
    "    confmtx = confusion_matrix(y_true,y_pred)\n",
    "    \n",
    "    print('true negatives:', confmtx[0,0], \n",
    "          '    false positives:', confmtx[0,1])\n",
    "    print('false negatives:', confmtx[1,0], \n",
    "          '    true positives:', confmtx[1,1])\n",
    "    print()\n",
    "    unique, counts = np.unique(y_true,return_counts=True)\n",
    "    \n",
    "    sens =  confmtx[1,1]/counts[1]\n",
    "    spec =  confmtx[0,0]/counts[0]\n",
    "    print(\"P producer's accuracy (TP/P):\", np.round(sens*100,2), '%')  \n",
    "    prec = confmtx[1,1]/(confmtx[1,1]+confmtx[0,1])\n",
    "    print(\"P user's accuracy (TP/(TP+FP)):\", np.round(prec*100,2),'%' )    \n",
    "    print(\"N producer's accuracy (TN/N):\", np.round(spec*100,2), '%')      \n",
    "    prec = confmtx[0,0]/(confmtx[0,0]+confmtx[1,0])\n",
    "    print(\"N user's accuracy (TN/(TN+FN)):\", np.round(prec*100,2),'%' )\n",
    "    print()    \n",
    "    print('overall accuracy:', np.round( (confmtx[1,1] + confmtx[0,0])/y_true.shape[0]*100,2),'%') # (TP + TN)/(P + N)\n",
    "    print()\n",
    "        \n",
    "    return"
   ]
  },
  {
   "cell_type": "code",
   "execution_count": 3,
   "id": "65f8f3e4-335b-43f9-840e-f866c36e748f",
   "metadata": {},
   "outputs": [],
   "source": [
    "# Assume repository's parent directory is the home directory\n",
    "home = os.path.expanduser(\"~\")\n",
    "os.chdir(os.path.join(home,'iceplant-detection-santa-barbara'))\n",
    "\n",
    "# ******************************************************\n",
    "# ******************* PARAMETERS ***********************\n",
    "root = os.path.join(os.getcwd(), \n",
    "                    'data',\n",
    "                    'iceplant_data',\n",
    "                    'initial_dataset')\n",
    "train_file_path = os.path.join(root, 'train_2500.csv')\n",
    "test_file_path = os.path.join(root, 'test_2500.csv')\n",
    "\n",
    "label_name = 'iceplant'\n",
    "\n",
    "save_model = False\n",
    "model_name = 'initial'\n",
    "\n",
    "cols = ['r',      \n",
    "        'g',\n",
    "        'b',\n",
    "        'nir']"
   ]
  },
  {
   "cell_type": "code",
   "execution_count": 4,
   "id": "d7ff95b8-b6dd-45d1-9628-7d33e6401bac",
   "metadata": {},
   "outputs": [
    {
     "data": {
      "text/html": [
       "<div>\n",
       "<style scoped>\n",
       "    .dataframe tbody tr th:only-of-type {\n",
       "        vertical-align: middle;\n",
       "    }\n",
       "\n",
       "    .dataframe tbody tr th {\n",
       "        vertical-align: top;\n",
       "    }\n",
       "\n",
       "    .dataframe thead th {\n",
       "        text-align: right;\n",
       "    }\n",
       "</style>\n",
       "<table border=\"1\" class=\"dataframe\">\n",
       "  <thead>\n",
       "    <tr style=\"text-align: right;\">\n",
       "      <th></th>\n",
       "      <th>r</th>\n",
       "      <th>g</th>\n",
       "      <th>b</th>\n",
       "      <th>nir</th>\n",
       "    </tr>\n",
       "  </thead>\n",
       "  <tbody>\n",
       "    <tr>\n",
       "      <th>0</th>\n",
       "      <td>57</td>\n",
       "      <td>84</td>\n",
       "      <td>65</td>\n",
       "      <td>172</td>\n",
       "    </tr>\n",
       "    <tr>\n",
       "      <th>1</th>\n",
       "      <td>92</td>\n",
       "      <td>99</td>\n",
       "      <td>78</td>\n",
       "      <td>169</td>\n",
       "    </tr>\n",
       "    <tr>\n",
       "      <th>2</th>\n",
       "      <td>84</td>\n",
       "      <td>95</td>\n",
       "      <td>69</td>\n",
       "      <td>166</td>\n",
       "    </tr>\n",
       "    <tr>\n",
       "      <th>3</th>\n",
       "      <td>86</td>\n",
       "      <td>88</td>\n",
       "      <td>75</td>\n",
       "      <td>130</td>\n",
       "    </tr>\n",
       "    <tr>\n",
       "      <th>4</th>\n",
       "      <td>78</td>\n",
       "      <td>90</td>\n",
       "      <td>68</td>\n",
       "      <td>164</td>\n",
       "    </tr>\n",
       "  </tbody>\n",
       "</table>\n",
       "</div>"
      ],
      "text/plain": [
       "    r   g   b  nir\n",
       "0  57  84  65  172\n",
       "1  92  99  78  169\n",
       "2  84  95  69  166\n",
       "3  86  88  75  130\n",
       "4  78  90  68  164"
      ]
     },
     "execution_count": 4,
     "metadata": {},
     "output_type": "execute_result"
    }
   ],
   "source": [
    "# ------------------------------\n",
    "# Import data\n",
    "X_train = pd.read_csv(train_file_path)#.loc[:, first_feature:last_feature]\n",
    "y_train = pd.read_csv(train_file_path).loc[:,label_name] \n",
    "\n",
    "X_test = pd.read_csv(test_file_path)#.loc[:, first_feature:last_feature]\n",
    "y_test = pd.read_csv(test_file_path).loc[:,label_name] \n",
    "\n",
    "# \n",
    "X_test = X_test[cols]\n",
    "X_train = X_train[cols] \n",
    "\n",
    "# ------------------------------\n",
    "X_train.head()"
   ]
  },
  {
   "cell_type": "code",
   "execution_count": 5,
   "id": "6c5a3bda-3cf4-4653-9c99-f0e2dd57177e",
   "metadata": {},
   "outputs": [
    {
     "data": {
      "text/plain": [
       "array([ True,  True,  True,  True])"
      ]
     },
     "execution_count": 5,
     "metadata": {},
     "output_type": "execute_result"
    }
   ],
   "source": [
    "# check columns from test and train match\n",
    "X_test.columns == X_train.columns"
   ]
  },
  {
   "cell_type": "code",
   "execution_count": 6,
   "id": "e158da78-b850-478d-a71d-5d160282095b",
   "metadata": {},
   "outputs": [
    {
     "name": "stdout",
     "output_type": "stream",
     "text": [
      "true negatives: 343     false positives: 77\n",
      "false negatives: 59     true positives: 271\n",
      "\n",
      "P producer's accuracy (TP/P): 82.12 %\n",
      "P user's accuracy (TP/(TP+FP)): 77.87 %\n",
      "N producer's accuracy (TN/N): 81.67 %\n",
      "N user's accuracy (TN/(TN+FN)): 85.32 %\n",
      "\n",
      "overall accuracy: 81.87 %\n",
      "\n"
     ]
    }
   ],
   "source": [
    "# train model\n",
    "rfc = RandomForestClassifier(n_estimators = 100, \n",
    "                             random_state = 42)# fixed for reproducibility\n",
    "rfc.fit(X_train.to_numpy(), y_train.to_numpy())\n",
    "\n",
    "# save model if needed\n",
    "if save_model:\n",
    "    dump(rfc, model_name +'.joblib')\n",
    "\n",
    "# calculate and print accuracy metrics\n",
    "preds = rfc.predict(X_test.to_numpy())\n",
    "print_accuracy_info(y_test.to_numpy(), preds)"
   ]
  }
 ],
 "metadata": {
  "kernelspec": {
   "display_name": "Python 3 (ipykernel)",
   "language": "python",
   "name": "python3"
  },
  "language_info": {
   "codemirror_mode": {
    "name": "ipython",
    "version": 3
   },
   "file_extension": ".py",
   "mimetype": "text/x-python",
   "name": "python",
   "nbconvert_exporter": "python",
   "pygments_lexer": "ipython3",
   "version": "3.11.4"
  }
 },
 "nbformat": 4,
 "nbformat_minor": 5
}
